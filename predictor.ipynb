{
 "cells": [
  {
   "cell_type": "markdown",
   "metadata": {},
   "source": [
    "## Analysis Code"
   ]
  },
  {
   "cell_type": "code",
   "execution_count": 476,
   "metadata": {},
   "outputs": [],
   "source": [
    "import pandas as pd\n",
    "import numpy as np\n",
    "from plotnine import *\n",
    "import re\n",
    "import plotly.express as px\n",
    "import datetime as dt\n",
    "import plotly.io as pio\n",
    "pio.renderers.default = \"notebook_connected\"\n",
    "\n",
    "from sklearn.model_selection import train_test_split\n",
    "\n",
    "pd.set_option('display.max_columns', None)\n"
   ]
  },
  {
   "cell_type": "code",
   "execution_count": 241,
   "metadata": {},
   "outputs": [],
   "source": [
    "def DropNaCols(df):\n",
    "    '''given a dataframe, drop all the columns with nothing but NaN'''\n",
    "    naColList = []\n",
    "    for ele in df.columns:\n",
    "        uniqueVals = list(df[ele].unique())\n",
    "        if len(uniqueVals) == 1:\n",
    "            naColList.append(ele)\n",
    "    return(df.drop(columns=naColList))"
   ]
  },
  {
   "cell_type": "code",
   "execution_count": 306,
   "metadata": {},
   "outputs": [],
   "source": [
    "def ReadingType(df):\n",
    "    '''indicates whether the given row provides a monthly, daily, or hourly reading'''\n",
    "    \n",
    "    #get the different column types into separate lists\n",
    "    monthlyCols = [ele for ele in list(df.columns) if 'month' in ele.lower()]\n",
    "    dailyCols = [ele for ele in list(df.columns) if 'dai' in ele.lower()]\n",
    "    hourlyCols = [ele for ele in list(df.columns) if 'hour' in ele.lower()]\n",
    "\n",
    "    #create columns indicating whether a row contains monthly, daily, or hourly readings\n",
    "    boolMask_monthly = ~df[monthlyCols].isna()\n",
    "    df['monthlyInd'] = boolMask_monthly.sum(axis=1)\n",
    "\n",
    "    boolMask_daily = ~df[dailyCols].isna()\n",
    "    df['dailyInd'] = boolMask_daily.sum(axis=1)\n",
    "\n",
    "    boolMask_hourly = ~df[hourlyCols].isna()\n",
    "    df['hourlyInd'] = boolMask_hourly.sum(axis=1)\n",
    "\n",
    "    #if a row has more than one non-NaN value in a monthly column, the reading is monthly, else if more than one non-NaN value in a daily column, the reading is daily, else if more than one non-Nan value in an hourly column, the reading is hourly else indicate no valid readings for the row\n",
    "    df['ReadingType'] = ['monthly' if df.iloc[ele]['monthlyInd'] > 0 else 'daily' if df.iloc[ele]['dailyInd'] > 0 else 'hourly' if df.iloc[ele]['hourlyInd'] > 0 else 'noValidReading' for ele in range(df.shape[0])]\n",
    "\n",
    "    return df"
   ]
  },
  {
   "cell_type": "code",
   "execution_count": 243,
   "metadata": {},
   "outputs": [],
   "source": [
    "def SplitDataframes(df):\n",
    "    '''given a dataframe of labeled monthly, daily, and hourly readings, split the dataframe by those labels into component dataframes and load those to a dictionary labeled according to reading type'''\n",
    "    dfDict = {}\n",
    "    for ele in df['ReadingType'].unique():\n",
    "        dfDict[ele] = DropNaCols(df[df['ReadingType'] == ele]).reset_index(drop=True)\n",
    "    return dfDict"
   ]
  },
  {
   "cell_type": "code",
   "execution_count": 479,
   "metadata": {},
   "outputs": [],
   "source": [
    "def CleanWeatherDF(df):\n",
    "    '''given a dataframe of local weather data, do some cosmetic cleaning including...\n",
    "    1. remove uppercase from column names and add underscores between words\n",
    "    2. convert date column to datetime'''\n",
    "\n",
    "    #1. remove uppercase from column names and add underscores between words\n",
    "    new_column_names = []\n",
    "    for ele in list(df.columns):\n",
    "        if ele.isupper():\n",
    "            new_column_names.append(re.sub('([.])','_',ele.lower()))\n",
    "        else:\n",
    "            new_column_names.append(re.sub('([.])','_',re.sub('(?<!^)(?=[A-Z])', '_',ele).lower()))\n",
    "    df.columns = new_column_names\n",
    "\n",
    "    # convert date column to datetime\n",
    "    df['date'] = pd.to_datetime(df['date'])\n",
    "\n",
    "    return df"
   ]
  },
  {
   "cell_type": "code",
   "execution_count": 428,
   "metadata": {},
   "outputs": [],
   "source": [
    "#clean up numerican columns, converting strings to digits, removing unnecessary strings, converting to floats\n",
    "def CleanHourlyColumns(df):\n",
    "    '''given a dataframe of hourly weather values, clean up the column values'''\n",
    "    numerical_columns = ['hourly_altimeter_setting','hourly_dew_point_temperature','hourly_dry_bulb_temperature','hourly_precipitation','hourly_pressure_change','hourly_pressure_tendency','hourly_relative_humidity','hourly_sea_level_pressure','hourly_station_pressure','hourly_visibility','hourly_wet_bulb_temperature','hourly_wind_direction','hourly_wind_gust_speed','hourly_wind_speed']\n",
    "\n",
    "    for ele in numerical_columns:\n",
    "        df[ele] = df[ele].replace('[A-Za-z*]','',regex=True).replace('',0).astype(float).fillna(0)\n",
    "\n",
    "    return df"
   ]
  },
  {
   "cell_type": "code",
   "execution_count": 542,
   "metadata": {},
   "outputs": [
    {
     "name": "stderr",
     "output_type": "stream",
     "text": [
      "/opt/anaconda3/lib/python3.8/site-packages/IPython/core/interactiveshell.py:3444: DtypeWarning:\n",
      "\n",
      "Columns (21,27,28,29,30,31,36,37,38,42,43,49,50,52,54,57,59,60,61,62,64,115,118,120) have mixed types.Specify dtype option on import or set low_memory=False.\n",
      "\n"
     ]
    }
   ],
   "source": [
    "#read in data\n",
    "df = pd.read_csv('3063831.csv')\n",
    "\n",
    "#add reading type column\n",
    "df = ReadingType(df)\n",
    "\n",
    "#clean up data\n",
    "df = DropNaCols(df)\n",
    "\n",
    "#next, put dataframe into separate dataframes depending on the type of reading\n",
    "dfDict = SplitDataframes(df)\n",
    "\n",
    "#clean up dataframes\n",
    "for ele in dfDict.values():\n",
    "    ele = CleanWeatherDF(ele)\n",
    "\n",
    "#for numerical columns in the hourly data, make them truly numerical\n",
    "dfDict['hourly'] = CleanHourlyColumns(dfDict['hourly'])"
   ]
  },
  {
   "cell_type": "code",
   "execution_count": 547,
   "metadata": {},
   "outputs": [],
   "source": [
    "df = dfDict['hourly']"
   ]
  },
  {
   "cell_type": "markdown",
   "metadata": {},
   "source": [
    "Parse current weather data into something categorical and analytical useful."
   ]
  },
  {
   "cell_type": "code",
   "execution_count": 600,
   "metadata": {},
   "outputs": [],
   "source": [
    "weather_au, weather_aw, weather_mw = [], [], []\n",
    "notable_weather_present_mask = df['hourly_present_weather_type'].isna()\n",
    "for ele in range(df.shape[0]):\n",
    "    if notable_weather_present_mask[ele]:\n",
    "        weather_au.append(['na'])\n",
    "        weather_aw.append(['na'])\n",
    "        weather_mw.append(['na'])\n",
    "    else:\n",
    "        ele_list = df['hourly_present_weather_type'][ele].split('|')\n",
    "        weather_au.append(ele_list[0].strip().split(' '))\n",
    "        weather_aw.append(ele_list[1].strip().split(' '))\n",
    "        weather_mw.append(ele_list[2].strip().split(' '))\n",
    "\n",
    "df['weather_au'], df['weather_aw'], df['weather_mw'] = weather_au, weather_aw, weather_mw"
   ]
  },
  {
   "cell_type": "code",
   "execution_count": 595,
   "metadata": {},
   "outputs": [],
   "source": [
    "au_codes = {\n",
    "    'DZ:01':'drizzle','RA:02':'rain','SN:03':'snow','SG:04':'snow grains','IC:05':'ice crystals','PL:06':'ice pellets','GR:07':'hail','GS:08':'small hail and/or snow pellets','UP:09':'unknown precipitation','BR:1':'mist','FG:2':'fog','FU:3':'smoke','VA:4':'volcanic ash','DU:5':'widespread dust','SA:6':'sand','HZ:7':'haze','PY:8':'spray','PO:1':'well develed dust/sand whirls','SQ:2':'squalls','FC:3':'funnel cloud, waterspout, or tornado','SS:4':'sandstorm','DS:5':'duststorm','na':'no reading'\n",
    "}\n",
    "\n",
    "au_code_modifiers = {\n",
    "    '-':'light','+','heavy','VC':'vicinity','MI':'shallow','PR':'partial','BC':'patches','DR':'low drifting','BL':'blowing', 'SH':'showers','TS':'thunderstorm','FZ':'freezing'\n",
    "}"
   ]
  },
  {
   "cell_type": "code",
   "execution_count": 604,
   "metadata": {},
   "outputs": [
    {
     "ename": "KeyError",
     "evalue": "'-FZ:8'",
     "output_type": "error",
     "traceback": [
      "\u001b[0;31m---------------------------------------------------------------------------\u001b[0m",
      "\u001b[0;31mKeyError\u001b[0m                                  Traceback (most recent call last)",
      "\u001b[0;32m/var/folders/rd/jrgkfsxj3532f762zr_v76500000gn/T/ipykernel_25500/543703659.py\u001b[0m in \u001b[0;36m<module>\u001b[0;34m\u001b[0m\n\u001b[1;32m      3\u001b[0m     \u001b[0mweather_conditions\u001b[0m \u001b[0;34m=\u001b[0m \u001b[0;34m[\u001b[0m\u001b[0;34m]\u001b[0m\u001b[0;34m\u001b[0m\u001b[0;34m\u001b[0m\u001b[0m\n\u001b[1;32m      4\u001b[0m     \u001b[0;32mfor\u001b[0m \u001b[0mi\u001b[0m \u001b[0;32min\u001b[0m \u001b[0mele\u001b[0m\u001b[0;34m:\u001b[0m\u001b[0;34m\u001b[0m\u001b[0;34m\u001b[0m\u001b[0m\n\u001b[0;32m----> 5\u001b[0;31m         \u001b[0mweather_conditions\u001b[0m\u001b[0;34m.\u001b[0m\u001b[0mappend\u001b[0m\u001b[0;34m(\u001b[0m\u001b[0mau_codes\u001b[0m\u001b[0;34m[\u001b[0m\u001b[0mi\u001b[0m\u001b[0;34m]\u001b[0m\u001b[0;34m)\u001b[0m\u001b[0;34m\u001b[0m\u001b[0;34m\u001b[0m\u001b[0m\n\u001b[0m\u001b[1;32m      6\u001b[0m     \u001b[0mconverted\u001b[0m\u001b[0;34m.\u001b[0m\u001b[0mappend\u001b[0m\u001b[0;34m(\u001b[0m\u001b[0mweather_conditions\u001b[0m\u001b[0;34m)\u001b[0m\u001b[0;34m\u001b[0m\u001b[0;34m\u001b[0m\u001b[0m\n",
      "\u001b[0;31mKeyError\u001b[0m: '-FZ:8'"
     ]
    }
   ],
   "source": [
    "converted = []\n",
    "for ele in weather_au:\n",
    "    weather_conditions = []\n",
    "    for i in ele:\n",
    "        weather_conditions.append(au_codes[i])\n",
    "    converted.append(weather_conditions)"
   ]
  }
 ],
 "metadata": {
  "kernelspec": {
   "display_name": "Python 3.8.3 ('base')",
   "language": "python",
   "name": "python3"
  },
  "language_info": {
   "codemirror_mode": {
    "name": "ipython",
    "version": 3
   },
   "file_extension": ".py",
   "mimetype": "text/x-python",
   "name": "python",
   "nbconvert_exporter": "python",
   "pygments_lexer": "ipython3",
   "version": "3.8.3"
  },
  "orig_nbformat": 4,
  "vscode": {
   "interpreter": {
    "hash": "40d3a090f54c6569ab1632332b64b2c03c39dcf918b08424e98f38b5ae0af88f"
   }
  }
 },
 "nbformat": 4,
 "nbformat_minor": 2
}
