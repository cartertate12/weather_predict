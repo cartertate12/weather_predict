{
 "cells": [
  {
   "cell_type": "markdown",
   "metadata": {},
   "source": [
    "# Intro"
   ]
  },
  {
   "cell_type": "markdown",
   "metadata": {},
   "source": [
    "## Data Details"
   ]
  },
  {
   "cell_type": "markdown",
   "metadata": {},
   "source": [
    "### Columns\n",
    "'DATE, REPORT_TYPE, SOURCE, AWND, CDSD, CLDD, DSNW, DYHF, DYTS, DailyAverageDryBulbTemperature, DailyAverageStationPressure, DailyAverageWindSpeed, DailyCoolingDegreeDays, DailyDepartureFromNormalAverageTemperature, DailyHeatingDegreeDays, DailyMaximumDryBulbTemperature, DailyMinimumDryBulbTemperature, DailyPeakWindDirection, DailyPeakWindSpeed, DailyPrecipitation, DailySnowDepth, DailySnowfall, DailySustainedWindDirection, DailySustainedWindSpeed, DailyWeather, HDSD, HTDD, HourlyAltimeterSetting, HourlyDewPointTemperature, HourlyDryBulbTemperature, HourlyPrecipitation, HourlyPresentWeatherType, HourlyPressureChange, HourlyPressureTendency, HourlyRelativeHumidity, HourlySeaLevelPressure, HourlySkyConditions, HourlyStationPressure, HourlyVisibility, HourlyWetBulbTemperature, HourlyWindDirection, HourlyWindGustSpeed, HourlyWindSpeed, MonthlyDaysWithGT001Precip, MonthlyDaysWithGT010Precip, MonthlyDaysWithGT32Temp, MonthlyDaysWithGT90Temp, MonthlyDaysWithLT0Temp, MonthlyDaysWithLT32Temp, MonthlyDepartureFromNormalAverageTemperature, MonthlyDepartureFromNormalCoolingDegreeDays, MonthlyDepartureFromNormalHeatingDegreeDays, MonthlyDepartureFromNormalMaximumTemperature, MonthlyDepartureFromNormalMinimumTemperature, MonthlyDepartureFromNormalPrecipitation, MonthlyGreatestPrecip, MonthlyGreatestPrecipDate, MonthlyMaxSeaLevelPressureValue, MonthlyMaxSeaLevelPressureValueDate, MonthlyMaxSeaLevelPressureValueTime, MonthlyMaximumTemperature, MonthlyMeanTemperature, MonthlyMinSeaLevelPressureValue, MonthlyMinSeaLevelPressureValueDate, MonthlyMinSeaLevelPressureValueTime, MonthlyMinimumTemperature, MonthlySeaLevelPressure, MonthlyStationPressure, MonthlyTotalLiquidPrecipitation, NormalsCoolingDegreeDay, NormalsHeatingDegreeDay, REM, REPORT_TYPE.1, SOURCE.1, ShortDurationEndDate005, ShortDurationEndDate010, ShortDurationEndDate015, ShortDurationEndDate020, ShortDurationEndDate030, ShortDurationEndDate045, ShortDurationEndDate060, ShortDurationEndDate080, ShortDurationEndDate100, ShortDurationEndDate120, ShortDurationEndDate150, ShortDurationEndDate180, ShortDurationPrecipitationValue005, ShortDurationPrecipitationValue010, ShortDurationPrecipitationValue015, ShortDurationPrecipitationValue020, ShortDurationPrecipitationValue030, ShortDurationPrecipitationValue045, ShortDurationPrecipitationValue060, ShortDurationPrecipitationValue080, ShortDurationPrecipitationValue100, ShortDurationPrecipitationValue120, ShortDurationPrecipitationValue150, ShortDurationPrecipitationValue180, Sunrise, Sunset, MonthlyInd'"
   ]
  },
  {
   "cell_type": "markdown",
   "metadata": {},
   "source": [
    "## Analysis Code"
   ]
  },
  {
   "cell_type": "code",
   "execution_count": 378,
   "metadata": {},
   "outputs": [],
   "source": [
    "import pandas as pd\n",
    "import numpy as np\n",
    "from plotnine import *\n",
    "import re\n",
    "import plotly.express as px\n",
    "import datetime as dt\n",
    "import plotly.io as pio\n",
    "pio.renderers.default = \"notebook_connected\"\n",
    "\n",
    "pd.set_option('display.max_columns', None)\n"
   ]
  },
  {
   "cell_type": "code",
   "execution_count": 241,
   "metadata": {},
   "outputs": [],
   "source": [
    "def DropNaCols(df):\n",
    "    '''given a dataframe, drop all the columns with nothing but NaN'''\n",
    "    naColList = []\n",
    "    for ele in df.columns:\n",
    "        uniqueVals = list(df[ele].unique())\n",
    "        if len(uniqueVals) == 1:\n",
    "            naColList.append(ele)\n",
    "    return(df.drop(columns=naColList))"
   ]
  },
  {
   "cell_type": "code",
   "execution_count": 306,
   "metadata": {},
   "outputs": [],
   "source": [
    "def ReadingType(df):\n",
    "    '''indicates whether the given row provides a monthly, daily, or hourly reading'''\n",
    "    \n",
    "    #get the different column types into separate lists\n",
    "    monthlyCols = [ele for ele in list(df.columns) if 'month' in ele.lower()]\n",
    "    dailyCols = [ele for ele in list(df.columns) if 'dai' in ele.lower()]\n",
    "    hourlyCols = [ele for ele in list(df.columns) if 'hour' in ele.lower()]\n",
    "\n",
    "    #create columns indicating whether a row contains monthly, daily, or hourly readings\n",
    "    boolMask_monthly = ~df[monthlyCols].isna()\n",
    "    df['monthlyInd'] = boolMask_monthly.sum(axis=1)\n",
    "\n",
    "    boolMask_daily = ~df[dailyCols].isna()\n",
    "    df['dailyInd'] = boolMask_daily.sum(axis=1)\n",
    "\n",
    "    boolMask_hourly = ~df[hourlyCols].isna()\n",
    "    df['hourlyInd'] = boolMask_hourly.sum(axis=1)\n",
    "\n",
    "    #if a row has more than one non-NaN value in a monthly column, the reading is monthly, else if more than one non-NaN value in a daily column, the reading is daily, else if more than one non-Nan value in an hourly column, the reading is hourly else indicate no valid readings for the row\n",
    "    df['ReadingType'] = ['monthly' if df.iloc[ele]['monthlyInd'] > 0 else 'daily' if df.iloc[ele]['dailyInd'] > 0 else 'hourly' if df.iloc[ele]['hourlyInd'] > 0 else 'noValidReading' for ele in range(df.shape[0])]\n",
    "\n",
    "    return df"
   ]
  },
  {
   "cell_type": "code",
   "execution_count": 243,
   "metadata": {},
   "outputs": [],
   "source": [
    "def SplitDataframes(df):\n",
    "    '''given a dataframe of labeled monthly, daily, and hourly readings, split the dataframe by those labels into component dataframes and load those to a dictionary labeled according to reading type'''\n",
    "    dfDict = {}\n",
    "    for ele in df['ReadingType'].unique():\n",
    "        dfDict[ele] = DropNaCols(df[df['ReadingType'] == ele]).reset_index(drop=True)\n",
    "    return dfDict"
   ]
  },
  {
   "cell_type": "code",
   "execution_count": 449,
   "metadata": {},
   "outputs": [],
   "source": [
    "def CleanWeatherDF(df):\n",
    "    '''given a dataframe of local weather data, do some cosmetic cleaning including...\n",
    "    1. remove uppercase from column names and add underscores between words\n",
    "    2. convert date column to datetime'''\n",
    "\n",
    "    #1. remove uppercase from column names and add underscores between words\n",
    "    new_column_names = []\n",
    "    for ele in list(df.columns):\n",
    "        if ele.isupper():\n",
    "            new_column_names.append(ele.lower())\n",
    "        else:\n",
    "            new_column_names.append(re.sub('([.])','_',re.sub('(?<!^)(?=[A-Z])', '_',ele).lower()))\n",
    "    df.columns = new_column_names\n",
    "\n",
    "    # convert date column to datetime\n",
    "    df['date'] = pd.to_datetime(df['date'])\n",
    "\n",
    "    return df"
   ]
  },
  {
   "cell_type": "code",
   "execution_count": 428,
   "metadata": {},
   "outputs": [],
   "source": [
    "#clean up numerican columns, converting strings to digits, removing unnecessary strings, converting to floats\n",
    "def CleanHourlyColumns(df):\n",
    "    '''given a dataframe of hourly weather values, clean up the column values'''\n",
    "    numerical_columns = ['hourly_altimeter_setting','hourly_dew_point_temperature','hourly_dry_bulb_temperature','hourly_precipitation','hourly_pressure_change','hourly_pressure_tendency','hourly_relative_humidity','hourly_sea_level_pressure','hourly_station_pressure','hourly_visibility','hourly_wet_bulb_temperature','hourly_wind_direction','hourly_wind_gust_speed','hourly_wind_speed']\n",
    "\n",
    "    for ele in numerical_columns:\n",
    "        df[ele] = df[ele].replace('[A-Za-z*]','',regex=True).replace('',0).astype(float).fillna(0)\n",
    "\n",
    "    return df"
   ]
  },
  {
   "cell_type": "code",
   "execution_count": 466,
   "metadata": {},
   "outputs": [
    {
     "name": "stdout",
     "output_type": "stream",
     "text": [
      "<class 'pandas.core.frame.DataFrame'>\n",
      "<class 'pandas.core.frame.DataFrame'>\n",
      "<class 'pandas.core.frame.DataFrame'>\n",
      "<class 'pandas.core.frame.DataFrame'>\n"
     ]
    }
   ],
   "source": [
    "for ele in dfDict.values():\n",
    "    print(type(ele))"
   ]
  },
  {
   "cell_type": "code",
   "execution_count": 473,
   "metadata": {},
   "outputs": [
    {
     "name": "stderr",
     "output_type": "stream",
     "text": [
      "/opt/anaconda3/lib/python3.8/site-packages/IPython/core/interactiveshell.py:3444: DtypeWarning:\n",
      "\n",
      "Columns (21,27,28,29,30,31,36,37,38,42,43,49,50,52,54,57,59,60,61,62,64,115,118,120) have mixed types.Specify dtype option on import or set low_memory=False.\n",
      "\n"
     ]
    }
   ],
   "source": [
    "#read in data\n",
    "df = pd.read_csv('3063831.csv')\n",
    "\n",
    "#add reading type column\n",
    "df = ReadingType(df)\n",
    "\n",
    "#clean up data\n",
    "df = DropNaCols(df)\n",
    "\n",
    "#next, put dataframe into separate dataframes depending on the type of reading\n",
    "dfDict = SplitDataframes(df)\n",
    "\n",
    "#clean up dataframes\n",
    "for ele in dfDict.values():\n",
    "    ele = CleanWeatherDF(ele)\n",
    "\n",
    "#for numerical columns in the hourly data, make them truly numerical\n",
    "dfDict['hourly'] = CleanHourlyColumns(dfDict['hourly'])"
   ]
  },
  {
   "cell_type": "code",
   "execution_count": 474,
   "metadata": {},
   "outputs": [
    {
     "data": {
      "text/plain": [
       "Index(['date', 'report_type', 'source', 'hourly_altimeter_setting',\n",
       "       'hourly_dew_point_temperature', 'hourly_dry_bulb_temperature',\n",
       "       'hourly_precipitation', 'hourly_present_weather_type',\n",
       "       'hourly_pressure_change', 'hourly_pressure_tendency',\n",
       "       'hourly_relative_humidity', 'hourly_sea_level_pressure',\n",
       "       'hourly_sky_conditions', 'hourly_station_pressure', 'hourly_visibility',\n",
       "       'hourly_wet_bulb_temperature', 'hourly_wind_direction',\n",
       "       'hourly_wind_gust_speed', 'hourly_wind_speed', 'rem', 'report_type.1',\n",
       "       'source.1', 'hourly_ind'],\n",
       "      dtype='object')"
      ]
     },
     "execution_count": 474,
     "metadata": {},
     "output_type": "execute_result"
    }
   ],
   "source": [
    "dfDict['hourly'].columns"
   ]
  },
  {
   "cell_type": "code",
   "execution_count": 471,
   "metadata": {},
   "outputs": [
    {
     "name": "stderr",
     "output_type": "stream",
     "text": [
      "/opt/anaconda3/lib/python3.8/site-packages/IPython/core/interactiveshell.py:3444: DtypeWarning:\n",
      "\n",
      "Columns (21,27,28,29,30,31,36,37,38,42,43,49,50,52,54,57,59,60,61,62,64,115,118,120) have mixed types.Specify dtype option on import or set low_memory=False.\n",
      "\n"
     ]
    },
    {
     "ename": "KeyError",
     "evalue": "\"['HourlyWebBulbTemperature'] not in index\"",
     "output_type": "error",
     "traceback": [
      "\u001b[0;31m---------------------------------------------------------------------------\u001b[0m",
      "\u001b[0;31mKeyError\u001b[0m                                  Traceback (most recent call last)",
      "\u001b[0;32m/var/folders/rd/jrgkfsxj3532f762zr_v76500000gn/T/ipykernel_25500/3378653331.py\u001b[0m in \u001b[0;36m<module>\u001b[0;34m\u001b[0m\n\u001b[0;32m----> 1\u001b[0;31m \u001b[0mpd\u001b[0m\u001b[0;34m.\u001b[0m\u001b[0mread_csv\u001b[0m\u001b[0;34m(\u001b[0m\u001b[0;34m'3063831.csv'\u001b[0m\u001b[0;34m)\u001b[0m\u001b[0;34m[\u001b[0m\u001b[0;34m[\u001b[0m\u001b[0;34m'HourlyWebBulbTemperature'\u001b[0m\u001b[0;34m,\u001b[0m\u001b[0;34m'REPORT_TYPE.1'\u001b[0m\u001b[0;34m]\u001b[0m\u001b[0;34m]\u001b[0m\u001b[0;34m.\u001b[0m\u001b[0mvalue_counts\u001b[0m\u001b[0;34m(\u001b[0m\u001b[0;34m)\u001b[0m\u001b[0;34m\u001b[0m\u001b[0;34m\u001b[0m\u001b[0m\n\u001b[0m",
      "\u001b[0;32m/opt/anaconda3/lib/python3.8/site-packages/pandas/core/frame.py\u001b[0m in \u001b[0;36m__getitem__\u001b[0;34m(self, key)\u001b[0m\n\u001b[1;32m   3462\u001b[0m             \u001b[0;32mif\u001b[0m \u001b[0mis_iterator\u001b[0m\u001b[0;34m(\u001b[0m\u001b[0mkey\u001b[0m\u001b[0;34m)\u001b[0m\u001b[0;34m:\u001b[0m\u001b[0;34m\u001b[0m\u001b[0;34m\u001b[0m\u001b[0m\n\u001b[1;32m   3463\u001b[0m                 \u001b[0mkey\u001b[0m \u001b[0;34m=\u001b[0m \u001b[0mlist\u001b[0m\u001b[0;34m(\u001b[0m\u001b[0mkey\u001b[0m\u001b[0;34m)\u001b[0m\u001b[0;34m\u001b[0m\u001b[0;34m\u001b[0m\u001b[0m\n\u001b[0;32m-> 3464\u001b[0;31m             \u001b[0mindexer\u001b[0m \u001b[0;34m=\u001b[0m \u001b[0mself\u001b[0m\u001b[0;34m.\u001b[0m\u001b[0mloc\u001b[0m\u001b[0;34m.\u001b[0m\u001b[0m_get_listlike_indexer\u001b[0m\u001b[0;34m(\u001b[0m\u001b[0mkey\u001b[0m\u001b[0;34m,\u001b[0m \u001b[0maxis\u001b[0m\u001b[0;34m=\u001b[0m\u001b[0;36m1\u001b[0m\u001b[0;34m)\u001b[0m\u001b[0;34m[\u001b[0m\u001b[0;36m1\u001b[0m\u001b[0;34m]\u001b[0m\u001b[0;34m\u001b[0m\u001b[0;34m\u001b[0m\u001b[0m\n\u001b[0m\u001b[1;32m   3465\u001b[0m \u001b[0;34m\u001b[0m\u001b[0m\n\u001b[1;32m   3466\u001b[0m         \u001b[0;31m# take() does not accept boolean indexers\u001b[0m\u001b[0;34m\u001b[0m\u001b[0;34m\u001b[0m\u001b[0;34m\u001b[0m\u001b[0m\n",
      "\u001b[0;32m/opt/anaconda3/lib/python3.8/site-packages/pandas/core/indexing.py\u001b[0m in \u001b[0;36m_get_listlike_indexer\u001b[0;34m(self, key, axis)\u001b[0m\n\u001b[1;32m   1312\u001b[0m             \u001b[0mkeyarr\u001b[0m\u001b[0;34m,\u001b[0m \u001b[0mindexer\u001b[0m\u001b[0;34m,\u001b[0m \u001b[0mnew_indexer\u001b[0m \u001b[0;34m=\u001b[0m \u001b[0max\u001b[0m\u001b[0;34m.\u001b[0m\u001b[0m_reindex_non_unique\u001b[0m\u001b[0;34m(\u001b[0m\u001b[0mkeyarr\u001b[0m\u001b[0;34m)\u001b[0m\u001b[0;34m\u001b[0m\u001b[0;34m\u001b[0m\u001b[0m\n\u001b[1;32m   1313\u001b[0m \u001b[0;34m\u001b[0m\u001b[0m\n\u001b[0;32m-> 1314\u001b[0;31m         \u001b[0mself\u001b[0m\u001b[0;34m.\u001b[0m\u001b[0m_validate_read_indexer\u001b[0m\u001b[0;34m(\u001b[0m\u001b[0mkeyarr\u001b[0m\u001b[0;34m,\u001b[0m \u001b[0mindexer\u001b[0m\u001b[0;34m,\u001b[0m \u001b[0maxis\u001b[0m\u001b[0;34m)\u001b[0m\u001b[0;34m\u001b[0m\u001b[0;34m\u001b[0m\u001b[0m\n\u001b[0m\u001b[1;32m   1315\u001b[0m \u001b[0;34m\u001b[0m\u001b[0m\n\u001b[1;32m   1316\u001b[0m         if needs_i8_conversion(ax.dtype) or isinstance(\n",
      "\u001b[0;32m/opt/anaconda3/lib/python3.8/site-packages/pandas/core/indexing.py\u001b[0m in \u001b[0;36m_validate_read_indexer\u001b[0;34m(self, key, indexer, axis)\u001b[0m\n\u001b[1;32m   1375\u001b[0m \u001b[0;34m\u001b[0m\u001b[0m\n\u001b[1;32m   1376\u001b[0m             \u001b[0mnot_found\u001b[0m \u001b[0;34m=\u001b[0m \u001b[0mlist\u001b[0m\u001b[0;34m(\u001b[0m\u001b[0mensure_index\u001b[0m\u001b[0;34m(\u001b[0m\u001b[0mkey\u001b[0m\u001b[0;34m)\u001b[0m\u001b[0;34m[\u001b[0m\u001b[0mmissing_mask\u001b[0m\u001b[0;34m.\u001b[0m\u001b[0mnonzero\u001b[0m\u001b[0;34m(\u001b[0m\u001b[0;34m)\u001b[0m\u001b[0;34m[\u001b[0m\u001b[0;36m0\u001b[0m\u001b[0;34m]\u001b[0m\u001b[0;34m]\u001b[0m\u001b[0;34m.\u001b[0m\u001b[0munique\u001b[0m\u001b[0;34m(\u001b[0m\u001b[0;34m)\u001b[0m\u001b[0;34m)\u001b[0m\u001b[0;34m\u001b[0m\u001b[0;34m\u001b[0m\u001b[0m\n\u001b[0;32m-> 1377\u001b[0;31m             \u001b[0;32mraise\u001b[0m \u001b[0mKeyError\u001b[0m\u001b[0;34m(\u001b[0m\u001b[0;34mf\"{not_found} not in index\"\u001b[0m\u001b[0;34m)\u001b[0m\u001b[0;34m\u001b[0m\u001b[0;34m\u001b[0m\u001b[0m\n\u001b[0m\u001b[1;32m   1378\u001b[0m \u001b[0;34m\u001b[0m\u001b[0m\n\u001b[1;32m   1379\u001b[0m \u001b[0;34m\u001b[0m\u001b[0m\n",
      "\u001b[0;31mKeyError\u001b[0m: \"['HourlyWebBulbTemperature'] not in index\""
     ]
    }
   ],
   "source": [
    "pd.read_csv('3063831.csv')[['HourlyWebBulbTemperature','REPORT_TYPE.1']].value_counts()"
   ]
  },
  {
   "cell_type": "code",
   "execution_count": 469,
   "metadata": {},
   "outputs": [
    {
     "name": "stdout",
     "output_type": "stream",
     "text": [
      "STATION\n",
      "DATE\n",
      "REPORT_TYPE\n",
      "SOURCE\n",
      "AWND\n",
      "BackupDirection\n",
      "BackupDistance\n",
      "BackupDistanceUnit\n",
      "BackupElements\n",
      "BackupElevation\n",
      "BackupElevationUnit\n",
      "BackupEquipment\n",
      "BackupLatitude\n",
      "BackupLongitude\n",
      "BackupName\n",
      "CDSD\n",
      "CLDD\n",
      "DSNW\n",
      "DYHF\n",
      "DYTS\n",
      "DailyAverageDewPointTemperature\n",
      "DailyAverageDryBulbTemperature\n",
      "DailyAverageRelativeHumidity\n",
      "DailyAverageSeaLevelPressure\n",
      "DailyAverageStationPressure\n",
      "DailyAverageWetBulbTemperature\n",
      "DailyAverageWindSpeed\n",
      "DailyCoolingDegreeDays\n",
      "DailyDepartureFromNormalAverageTemperature\n",
      "DailyHeatingDegreeDays\n",
      "DailyMaximumDryBulbTemperature\n",
      "DailyMinimumDryBulbTemperature\n",
      "DailyPeakWindDirection\n",
      "DailyPeakWindSpeed\n",
      "DailyPrecipitation\n",
      "DailySnowDepth\n",
      "DailySnowfall\n",
      "DailySustainedWindDirection\n",
      "DailySustainedWindSpeed\n",
      "DailyWeather\n",
      "HDSD\n",
      "HTDD\n",
      "HourlyAltimeterSetting\n",
      "HourlyDewPointTemperature\n",
      "HourlyDryBulbTemperature\n",
      "HourlyPrecipitation\n",
      "HourlyPresentWeatherType\n",
      "HourlyPressureChange\n",
      "HourlyPressureTendency\n",
      "HourlyRelativeHumidity\n",
      "HourlySeaLevelPressure\n",
      "HourlySkyConditions\n",
      "HourlyStationPressure\n",
      "HourlyVisibility\n",
      "HourlyWetBulbTemperature\n",
      "HourlyWindDirection\n",
      "HourlyWindGustSpeed\n",
      "HourlyWindSpeed\n",
      "MonthlyAverageRH\n",
      "MonthlyDaysWithGT001Precip\n",
      "MonthlyDaysWithGT010Precip\n",
      "MonthlyDaysWithGT32Temp\n",
      "MonthlyDaysWithGT90Temp\n",
      "MonthlyDaysWithLT0Temp\n",
      "MonthlyDaysWithLT32Temp\n",
      "MonthlyDepartureFromNormalAverageTemperature\n",
      "MonthlyDepartureFromNormalCoolingDegreeDays\n",
      "MonthlyDepartureFromNormalHeatingDegreeDays\n",
      "MonthlyDepartureFromNormalMaximumTemperature\n",
      "MonthlyDepartureFromNormalMinimumTemperature\n",
      "MonthlyDepartureFromNormalPrecipitation\n",
      "MonthlyDewpointTemperature\n",
      "MonthlyGreatestPrecip\n",
      "MonthlyGreatestPrecipDate\n",
      "MonthlyGreatestSnowDepth\n",
      "MonthlyGreatestSnowDepthDate\n",
      "MonthlyGreatestSnowfall\n",
      "MonthlyGreatestSnowfallDate\n",
      "MonthlyMaxSeaLevelPressureValue\n",
      "MonthlyMaxSeaLevelPressureValueDate\n",
      "MonthlyMaxSeaLevelPressureValueTime\n",
      "MonthlyMaximumTemperature\n",
      "MonthlyMeanTemperature\n",
      "MonthlyMinSeaLevelPressureValue\n",
      "MonthlyMinSeaLevelPressureValueDate\n",
      "MonthlyMinSeaLevelPressureValueTime\n",
      "MonthlyMinimumTemperature\n",
      "MonthlySeaLevelPressure\n",
      "MonthlyStationPressure\n",
      "MonthlyTotalLiquidPrecipitation\n",
      "MonthlyTotalSnowfall\n",
      "MonthlyWetBulb\n",
      "NormalsCoolingDegreeDay\n",
      "NormalsHeatingDegreeDay\n",
      "REM\n",
      "REPORT_TYPE.1\n",
      "SOURCE.1\n",
      "ShortDurationEndDate005\n",
      "ShortDurationEndDate010\n",
      "ShortDurationEndDate015\n",
      "ShortDurationEndDate020\n",
      "ShortDurationEndDate030\n",
      "ShortDurationEndDate045\n",
      "ShortDurationEndDate060\n",
      "ShortDurationEndDate080\n",
      "ShortDurationEndDate100\n",
      "ShortDurationEndDate120\n",
      "ShortDurationEndDate150\n",
      "ShortDurationEndDate180\n",
      "ShortDurationPrecipitationValue005\n",
      "ShortDurationPrecipitationValue010\n",
      "ShortDurationPrecipitationValue015\n",
      "ShortDurationPrecipitationValue020\n",
      "ShortDurationPrecipitationValue030\n",
      "ShortDurationPrecipitationValue045\n",
      "ShortDurationPrecipitationValue060\n",
      "ShortDurationPrecipitationValue080\n",
      "ShortDurationPrecipitationValue100\n",
      "ShortDurationPrecipitationValue120\n",
      "ShortDurationPrecipitationValue150\n",
      "ShortDurationPrecipitationValue180\n",
      "Sunrise\n",
      "Sunset\n",
      "WindEquipmentChangeDate\n"
     ]
    },
    {
     "name": "stderr",
     "output_type": "stream",
     "text": [
      "/opt/anaconda3/lib/python3.8/site-packages/IPython/core/interactiveshell.py:3444: DtypeWarning:\n",
      "\n",
      "Columns (21,27,28,29,30,31,36,37,38,42,43,49,50,52,54,57,59,60,61,62,64,115,118,120) have mixed types.Specify dtype option on import or set low_memory=False.\n",
      "\n"
     ]
    }
   ],
   "source": [
    "for ele in pd.read_csv('3063831.csv').columns"
   ]
  },
  {
   "cell_type": "code",
   "execution_count": 455,
   "metadata": {},
   "outputs": [
    {
     "data": {
      "text/plain": [
       "Index(['date', 'report_type', 'source', 'hourly_altimeter_setting',\n",
       "       'hourly_dew_point_temperature', 'hourly_dry_bulb_temperature',\n",
       "       'hourly_precipitation', 'hourly_present_weather_type',\n",
       "       'hourly_pressure_change', 'hourly_pressure_tendency',\n",
       "       'hourly_relative_humidity', 'hourly_sea_level_pressure',\n",
       "       'hourly_sky_conditions', 'hourly_station_pressure', 'hourly_visibility',\n",
       "       'hourly_wet_bulb_temperature', 'hourly_wind_direction',\n",
       "       'hourly_wind_gust_speed', 'hourly_wind_speed', 'rem', 'report_type.1',\n",
       "       'source.1', 'hourlyInd'],\n",
       "      dtype='object')"
      ]
     },
     "execution_count": 455,
     "metadata": {},
     "output_type": "execute_result"
    }
   ],
   "source": [
    "dfDict['hourly'].columns"
   ]
  }
 ],
 "metadata": {
  "kernelspec": {
   "display_name": "Python 3.8.3 ('base')",
   "language": "python",
   "name": "python3"
  },
  "language_info": {
   "codemirror_mode": {
    "name": "ipython",
    "version": 3
   },
   "file_extension": ".py",
   "mimetype": "text/x-python",
   "name": "python",
   "nbconvert_exporter": "python",
   "pygments_lexer": "ipython3",
   "version": "3.8.3"
  },
  "orig_nbformat": 4,
  "vscode": {
   "interpreter": {
    "hash": "40d3a090f54c6569ab1632332b64b2c03c39dcf918b08424e98f38b5ae0af88f"
   }
  }
 },
 "nbformat": 4,
 "nbformat_minor": 2
}
